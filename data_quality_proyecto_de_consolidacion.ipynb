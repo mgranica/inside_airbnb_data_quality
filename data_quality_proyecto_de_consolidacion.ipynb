{
	"cells": [
		{
			"cell_type": "markdown",
			"metadata": {
				"editable": true,
				"trusted": true
			},
			"source": [
				"# Proyecto de consolidacion: Inside AirBnb \n",
				"##### Herramientas para la calidad del dato"
			]
		},
		{
			"cell_type": "code",
			"execution_count": 7,
			"metadata": {
				"tags": [],
				"trusted": true,
				"vscode": {
					"languageId": "python_glue_session"
				}
			},
			"outputs": [
				{
					"name": "stdout",
					"output_type": "stream",
					"text": [
						"Welcome to the Glue Interactive Sessions Kernel\n",
						"For more information on available magic commands, please type %help in any new cell.\n",
						"\n",
						"Please view our Getting Started page to access the most up-to-date information on the Interactive Sessions kernel: https://docs.aws.amazon.com/glue/latest/dg/interactive-sessions.html\n",
						"Installed kernel version: 1.0.5 \n",
						"Previous region: us-east-1\n",
						"Setting new region to: us-east-1\n",
						"Region is set to: us-east-1\n",
						"Previous number of workers: None\n",
						"Setting new number of workers to: 2\n",
						"Current idle_timeout is None minutes.\n",
						"idle_timeout has been set to 60 minutes.\n",
						"Setting Glue version to: 4.0\n",
						"Previous worker type: None\n",
						"Setting new worker type to: G.1X\n",
						"Additional python modules to be included:\n",
						"TextBlob\n"
					]
				}
			],
			"source": [
				"%region us-east-1\n",
				"%number_of_workers 2\n",
				"%idle_timeout 60\n",
				"%glue_version 4.0\n",
				"%worker_type G.1X\n",
				"%additional_python_modules TextBlob"
			]
		},
		{
			"cell_type": "code",
			"execution_count": 1,
			"metadata": {
				"tags": [],
				"trusted": true,
				"vscode": {
					"languageId": "python_glue_session"
				}
			},
			"outputs": [
				{
					"name": "stdout",
					"output_type": "stream",
					"text": [
						"Trying to create a Glue session for the kernel.\n",
						"Session Type: glueetl\n",
						"Worker Type: G.1X\n",
						"Number of Workers: 2\n",
						"Idle Timeout: 60\n",
						"Session ID: e8e1bb70-0549-4d78-ac85-993c94b4f10a\n",
						"Applying the following default arguments:\n",
						"--glue_kernel_version 1.0.5\n",
						"--enable-glue-datacatalog true\n",
						"--additional-python-modules TextBlob\n",
						"Waiting for session e8e1bb70-0549-4d78-ac85-993c94b4f10a to get into ready status...\n",
						"Session e8e1bb70-0549-4d78-ac85-993c94b4f10a has been created.\n",
						"\n"
					]
				}
			],
			"source": [
				"import sys\n",
				"from awsglue.transforms import *\n",
				"from awsglue.utils import getResolvedOptions\n",
				"from pyspark.context import SparkContext\n",
				"from awsglue.context import GlueContext\n",
				"from awsglue.job import Job\n",
				"import pyspark.sql.functions as F\n",
				"import pyspark.sql.types as T\n",
				"import pyspark.testing as Test\n",
				"from pyspark.sql import Window as W\n",
				"import pandas as pd\n",
				"import numpy as np\n",
				"from textblob import TextBlob\n",
				"from datetime import datetime\n",
				"  \n",
				"sc = SparkContext.getOrCreate()\n",
				"glueContext = GlueContext(sc)\n",
				"spark = glueContext.spark_session\n",
				"job = Job(glueContext)"
			]
		},
		{
			"cell_type": "code",
			"execution_count": 2,
			"metadata": {
				"tags": [],
				"trusted": true,
				"vscode": {
					"languageId": "python_glue_session"
				}
			},
			"outputs": [
				{
					"name": "stdout",
					"output_type": "stream",
					"text": [
						"\n"
					]
				}
			],
			"source": [
				"# Constants\n",
				"BUCKET_NAME = \"insideairbnbbucket\"\n",
				"listings_raw = f\"s3://{BUCKET_NAME}/raw/listings/listings_q4.csv.gz\"\n",
				"reviews_raw = f\"s3://{BUCKET_NAME}/raw/reviews/reviews_q4.csv.gz\"\n",
				"listings_bronze = f\"s3://{BUCKET_NAME}/bronze_listings/\"\n",
				"reviews_bronze = f\"s3://{BUCKET_NAME}/bronze_reviews/\"\n",
				"listings_silver = f\"s3://{BUCKET_NAME}/silver_listings/\"\n",
				"reviews_silver = f\"s3://{BUCKET_NAME}/silver_reviews/\"\n",
				"\n",
				"neighborhood_room_type_report_gold = f\"s3://{BUCKET_NAME}/gold_report_neighborhood_and_room_type/\"\n",
				"neighborhood_host_type_report_gold = f\"s3://{BUCKET_NAME}/gold_report_neighborhood_and_host_type/\"\n",
				"host_name_report_gold = f\"s3://{BUCKET_NAME}/gold_report_host_name/\"\n",
				"benefits_report_gold = f\"s3://{BUCKET_NAME}/gold_report_benefits/\""
			]
		},
		{
			"cell_type": "markdown",
			"metadata": {},
			"source": [
				"# 2. Bronze Layer\n",
				"\n",
				"> The Bronze layer is where we land all the data from external source systems. The table structures in this layer correspond to the source system table structures \"as-is,\" along with any additional metadata columns that capture the load date/time, process ID, etc."
			]
		},
		{
			"cell_type": "markdown",
			"metadata": {},
			"source": [
				"## 1.1 listings"
			]
		},
		{
			"cell_type": "markdown",
			"metadata": {},
			"source": [
				"#### read raw listings from the **raw layer** of the datalake"
			]
		},
		{
			"cell_type": "code",
			"execution_count": 3,
			"metadata": {
				"tags": [],
				"trusted": true,
				"vscode": {
					"languageId": "python_glue_session"
				}
			},
			"outputs": [
				{
					"name": "stdout",
					"output_type": "stream",
					"text": [
						"\n"
					]
				}
			],
			"source": [
				"listings_schema = T.StructType([\n",
				"    T.StructField(\"id\", T.IntegerType(), True),\n",
				"    T.StructField(\"listing_url\", T.StringType(), True),\n",
				"    T.StructField(\"scrape_id\", T.LongType(), True),\n",
				"    T.StructField(\"last_scraped\", T.TimestampType(), True),\n",
				"    T.StructField(\"name\", T.StringType(), True),\n",
				"    T.StructField(\"description\", T.StringType(), True),\n",
				"    T.StructField(\"neighborhood_overview\", T.StringType(), True),\n",
				"    T.StructField(\"picture_url\", T.StringType(), True),\n",
				"    T.StructField(\"host_id\", T.IntegerType(), True),\n",
				"    T.StructField(\"host_url\", T.StringType(), True),\n",
				"    T.StructField(\"host_name\", T.StringType(), True),\n",
				"    T.StructField(\"host_since\", T.DateType(), True),\n",
				"    T.StructField(\"host_location\", T.StringType(), True),\n",
				"    T.StructField(\"host_about\", T.StringType(), True),\n",
				"    T.StructField(\"host_response_time\", T.StringType(), True),\n",
				"    T.StructField(\"host_response_rate\", T.StringType(), True),\n",
				"    T.StructField(\"host_acceptance_rate\", T.StringType(), True),\n",
				"    T.StructField(\"host_is_superhost\", T.BooleanType(), True),\n",
				"    T.StructField(\"host_thumbnail_url\", T.StringType(), True),\n",
				"    T.StructField(\"host_picture_url\", T.StringType(), True),\n",
				"    T.StructField(\"host_neighbourhood\", T.StringType(), True),\n",
				"    T.StructField(\"host_listings_count\", T.StringType(), True),\n",
				"    T.StructField(\"host_total_listings_count\", T.StringType(), True),\n",
				"    T.StructField(\"host_verifications\", T.ArrayType(T.StringType()), True),\n",
				"    T.StructField(\"host_has_profile_pic\", T.BooleanType(), True),\n",
				"    T.StructField(\"host_identity_verified\", T.BooleanType(), True),\n",
				"    T.StructField(\"neighbourhood\", T.StringType(), True),\n",
				"    T.StructField(\"neighbourhood_cleansed\", T.StringType(), True),\n",
				"    T.StructField(\"neighbourhood_group_cleansed\", T.StringType(), True),\n",
				"    T.StructField(\"latitude\", T.FloatType(), True),\n",
				"    T.StructField(\"longitude\", T.FloatType(), True),\n",
				"    T.StructField(\"property_type\", T.StringType(), True),\n",
				"    T.StructField(\"room_type\", T.StringType(), True),\n",
				"    T.StructField(\"accommodates\", T.IntegerType(), True),\n",
				"    T.StructField(\"bathrooms\", T.FloatType(), True),\n",
				"    T.StructField(\"bathrooms_text\", T.StringType(), True),\n",
				"    T.StructField(\"bedrooms\", T.IntegerType(), True),\n",
				"    T.StructField(\"beds\", T.IntegerType(), True),\n",
				"    T.StructField(\"amenities\", T.ArrayType(T.StringType()), True),\n",
				"    T.StructField(\"price\", T.DoubleType(), True),\n",
				"    T.StructField(\"minimum_nights\", T.IntegerType(), True),\n",
				"    T.StructField(\"maximum_nights\", T.IntegerType(), True),\n",
				"    T.StructField(\"minimum_minimum_nights\", T.IntegerType(), True),\n",
				"    T.StructField(\"maximum_minimum_nights\", T.IntegerType(), True),\n",
				"    T.StructField(\"minimum_maximum_nights\", T.IntegerType(), True),\n",
				"    T.StructField(\"maximum_maximum_nights\", T.IntegerType(), True),\n",
				"    T.StructField(\"minimum_nights_avg_ntm\", T.FloatType(), True),\n",
				"    T.StructField(\"maximum_nights_avg_ntm\", T.FloatType(), True),\n",
				"    T.StructField(\"calendar_updated\", T.DateType(), True),\n",
				"    T.StructField(\"has_availability\", T.BooleanType(), True),\n",
				"    T.StructField(\"availability_30\", T.IntegerType(), True),\n",
				"    T.StructField(\"availability_60\", T.IntegerType(), True),\n",
				"    T.StructField(\"availability_90\", T.IntegerType(), True),\n",
				"    T.StructField(\"availability_365\", T.IntegerType(), True),\n",
				"    T.StructField(\"calendar_last_scraped\", T.DateType(), True),\n",
				"    T.StructField(\"number_of_reviews\", T.IntegerType(), True),\n",
				"    T.StructField(\"number_of_reviews_ltm\", T.IntegerType(), True),\n",
				"    T.StructField(\"number_of_reviews_l30d\", T.IntegerType(), True),\n",
				"    T.StructField(\"first_review\", T.DateType(), True),\n",
				"    T.StructField(\"last_review\", T.DateType(), True),\n",
				"    T.StructField(\"review_scores_rating\", T.FloatType(), True),\n",
				"    T.StructField(\"review_scores_accuracy\", T.FloatType(), True),\n",
				"    T.StructField(\"review_scores_cleanliness\", T.FloatType(), True),\n",
				"    T.StructField(\"review_scores_checkin\", T.FloatType(), True),\n",
				"    T.StructField(\"review_scores_communication\", T.FloatType(), True),\n",
				"    T.StructField(\"review_scores_location\", T.FloatType(), True),\n",
				"    T.StructField(\"review_scores_value\", T.FloatType(), True),\n",
				"    T.StructField(\"license\", T.StringType(), True),\n",
				"    T.StructField(\"instant_bookable\", T.BooleanType(), True),\n",
				"    T.StructField(\"calculated_host_listings_count\", T.IntegerType(), True),\n",
				"    T.StructField(\"calculated_host_listings_count_entire_homes\", T.IntegerType(), True),\n",
				"    T.StructField(\"calculated_host_listings_count_private_rooms\", T.IntegerType(), True),\n",
				"    T.StructField(\"calculated_host_listings_count_shared_rooms\", T.IntegerType(), True),\n",
				"    T.StructField(\"reviews_per_month\", T.FloatType(), True)\n",
				"])"
			]
		},
		{
			"cell_type": "code",
			"execution_count": 4,
			"metadata": {
				"tags": [],
				"trusted": true,
				"vscode": {
					"languageId": "python_glue_session"
				}
			},
			"outputs": [
				{
					"name": "stdout",
					"output_type": "stream",
					"text": [
						"\n"
					]
				}
			],
			"source": [
				"df_listings = (\n",
				"    spark\n",
				"    .read\n",
				"    .format(\"csv\")\n",
				"    .option(\"header\", True)\n",
				"    .option(\"schema\", listings_schema)\n",
				"    .option(\"compression\", \"gzip\")\n",
				"    .option(\"sep\", \",\")\n",
				"    .option(\"quote\", '\"')\n",
				"    .option(\"escape\", '\"')\n",
				"    .option(\"multiLine\", True)\n",
				"    .option(\"encoding\", \"UTF-8\")\n",
				"    .option(\"dateFormat\", \"yyyy-MM-dd\")\n",
				"    .option(\"timestampFormat\", \"yyyy-MM-dd HH:mm:ss\")\n",
				"    .load(listings_raw)\n",
				")"
			]
		},
		{
			"cell_type": "code",
			"execution_count": 5,
			"metadata": {
				"tags": [],
				"trusted": true,
				"vscode": {
					"languageId": "python_glue_session"
				}
			},
			"outputs": [
				{
					"name": "stdout",
					"output_type": "stream",
					"text": [
						"root\n",
						" |-- id: string (nullable = true)\n",
						" |-- listing_url: string (nullable = true)\n",
						" |-- scrape_id: string (nullable = true)\n",
						" |-- last_scraped: string (nullable = true)\n",
						" |-- source: string (nullable = true)\n",
						" |-- name: string (nullable = true)\n",
						" |-- description: string (nullable = true)\n",
						" |-- neighborhood_overview: string (nullable = true)\n",
						" |-- picture_url: string (nullable = true)\n",
						" |-- host_id: string (nullable = true)\n",
						" |-- host_url: string (nullable = true)\n",
						" |-- host_name: string (nullable = true)\n",
						" |-- host_since: string (nullable = true)\n",
						" |-- host_location: string (nullable = true)\n",
						" |-- host_about: string (nullable = true)\n",
						" |-- host_response_time: string (nullable = true)\n",
						" |-- host_response_rate: string (nullable = true)\n",
						" |-- host_acceptance_rate: string (nullable = true)\n",
						" |-- host_is_superhost: string (nullable = true)\n",
						" |-- host_thumbnail_url: string (nullable = true)\n",
						" |-- host_picture_url: string (nullable = true)\n",
						" |-- host_neighbourhood: string (nullable = true)\n",
						" |-- host_listings_count: string (nullable = true)\n",
						" |-- host_total_listings_count: string (nullable = true)\n",
						" |-- host_verifications: string (nullable = true)\n",
						" |-- host_has_profile_pic: string (nullable = true)\n",
						" |-- host_identity_verified: string (nullable = true)\n",
						" |-- neighbourhood: string (nullable = true)\n",
						" |-- neighbourhood_cleansed: string (nullable = true)\n",
						" |-- neighbourhood_group_cleansed: string (nullable = true)\n",
						" |-- latitude: string (nullable = true)\n",
						" |-- longitude: string (nullable = true)\n",
						" |-- property_type: string (nullable = true)\n",
						" |-- room_type: string (nullable = true)\n",
						" |-- accommodates: string (nullable = true)\n",
						" |-- bathrooms: string (nullable = true)\n",
						" |-- bathrooms_text: string (nullable = true)\n",
						" |-- bedrooms: string (nullable = true)\n",
						" |-- beds: string (nullable = true)\n",
						" |-- amenities: string (nullable = true)\n",
						" |-- price: string (nullable = true)\n",
						" |-- minimum_nights: string (nullable = true)\n",
						" |-- maximum_nights: string (nullable = true)\n",
						" |-- minimum_minimum_nights: string (nullable = true)\n",
						" |-- maximum_minimum_nights: string (nullable = true)\n",
						" |-- minimum_maximum_nights: string (nullable = true)\n",
						" |-- maximum_maximum_nights: string (nullable = true)\n",
						" |-- minimum_nights_avg_ntm: string (nullable = true)\n",
						" |-- maximum_nights_avg_ntm: string (nullable = true)\n",
						" |-- calendar_updated: string (nullable = true)\n",
						" |-- has_availability: string (nullable = true)\n",
						" |-- availability_30: string (nullable = true)\n",
						" |-- availability_60: string (nullable = true)\n",
						" |-- availability_90: string (nullable = true)\n",
						" |-- availability_365: string (nullable = true)\n",
						" |-- calendar_last_scraped: string (nullable = true)\n",
						" |-- number_of_reviews: string (nullable = true)\n",
						" |-- number_of_reviews_ltm: string (nullable = true)\n",
						" |-- number_of_reviews_l30d: string (nullable = true)\n",
						" |-- first_review: string (nullable = true)\n",
						" |-- last_review: string (nullable = true)\n",
						" |-- review_scores_rating: string (nullable = true)\n",
						" |-- review_scores_accuracy: string (nullable = true)\n",
						" |-- review_scores_cleanliness: string (nullable = true)\n",
						" |-- review_scores_checkin: string (nullable = true)\n",
						" |-- review_scores_communication: string (nullable = true)\n",
						" |-- review_scores_location: string (nullable = true)\n",
						" |-- review_scores_value: string (nullable = true)\n",
						" |-- license: string (nullable = true)\n",
						" |-- instant_bookable: string (nullable = true)\n",
						" |-- calculated_host_listings_count: string (nullable = true)\n",
						" |-- calculated_host_listings_count_entire_homes: string (nullable = true)\n",
						" |-- calculated_host_listings_count_private_rooms: string (nullable = true)\n",
						" |-- calculated_host_listings_count_shared_rooms: string (nullable = true)\n",
						" |-- reviews_per_month: string (nullable = true)\n"
					]
				}
			],
			"source": [
				"df_listings.printSchema()"
			]
		},
		{
			"cell_type": "code",
			"execution_count": 6,
			"metadata": {
				"tags": [],
				"trusted": true,
				"vscode": {
					"languageId": "python_glue_session"
				}
			},
			"outputs": [
				{
					"name": "stdout",
					"output_type": "stream",
					"text": [
						"\n"
					]
				}
			],
			"source": [
				"reviews_schema = T.StructType([\n",
				"    T.StructField('listing_id', T.LongType(), True), \n",
				"    T.StructField('id', T.LongType(), True), \n",
				"    T.StructField('date', T.StringType(), True), \n",
				"    T.StructField('reviewer_id', T.IntegerType(), True), \n",
				"    T.StructField('reviewer_name', T.StringType(), True), \n",
				"    T.StructField('comments', T.StringType(), True)\n",
				"])"
			]
		},
		{
			"cell_type": "code",
			"execution_count": 7,
			"metadata": {
				"tags": [],
				"trusted": true,
				"vscode": {
					"languageId": "python_glue_session"
				}
			},
			"outputs": [
				{
					"name": "stdout",
					"output_type": "stream",
					"text": [
						"\n"
					]
				}
			],
			"source": [
				"df_reviews = (\n",
				"    spark\n",
				"    .read\n",
				"    .format(\"csv\")\n",
				"    .option(\"header\", True)\n",
				"    .option(\"schema\", reviews_schema)\n",
				"    .option(\"compression\", \"gzip\")\n",
				"    .option(\"sep\", \",\")\n",
				"    .option(\"quote\", '\"')\n",
				"    .option(\"escape\", '\"')\n",
				"    .option(\"multiLine\", True)\n",
				"    .option(\"encoding\", \"UTF-8\")\n",
				"    .option(\"dateFormat\", \"yyyy-MM-dd\")\n",
				"    .option(\"timestampFormat\", \"yyyy-MM-dd HH:mm:ss\")\n",
				"    .load(reviews_raw)\n",
				")"
			]
		},
		{
			"cell_type": "code",
			"execution_count": 8,
			"metadata": {
				"tags": [],
				"trusted": true,
				"vscode": {
					"languageId": "python_glue_session"
				}
			},
			"outputs": [
				{
					"name": "stdout",
					"output_type": "stream",
					"text": [
						"root\n",
						" |-- listing_id: string (nullable = true)\n",
						" |-- id: string (nullable = true)\n",
						" |-- date: string (nullable = true)\n",
						" |-- reviewer_id: string (nullable = true)\n",
						" |-- reviewer_name: string (nullable = true)\n",
						" |-- comments: string (nullable = true)\n"
					]
				}
			],
			"source": [
				"df_reviews.printSchema()"
			]
		},
		{
			"cell_type": "markdown",
			"metadata": {},
			"source": [
				"#### write listings and reviews In the **Bronze layer** of the lakehouse,"
			]
		},
		{
			"cell_type": "code",
			"execution_count": 9,
			"metadata": {
				"tags": [],
				"trusted": true,
				"vscode": {
					"languageId": "python_glue_session"
				}
			},
			"outputs": [
				{
					"name": "stdout",
					"output_type": "stream",
					"text": [
						"\n"
					]
				}
			],
			"source": [
				"(\n",
				"    df_listings\n",
				"    .write\n",
				"    .format(\"parquet\")\n",
				"    .mode(\"overwrite\")\n",
				"    .save(listings_bronze)\n",
				")"
			]
		},
		{
			"cell_type": "code",
			"execution_count": 10,
			"metadata": {
				"tags": [],
				"trusted": true,
				"vscode": {
					"languageId": "python_glue_session"
				}
			},
			"outputs": [
				{
					"name": "stdout",
					"output_type": "stream",
					"text": [
						"\n"
					]
				}
			],
			"source": [
				"(\n",
				"    df_reviews\n",
				"    .write\n",
				"    .format(\"parquet\")\n",
				"    .mode(\"overwrite\")\n",
				"    .save(reviews_bronze)\n",
				")"
			]
		},
		{
			"cell_type": "markdown",
			"metadata": {},
			"source": [
				"# 2. Silver Layer\n",
				"> In the **Silver layer** of the lakehouse, the data from the Bronze layer is matched, merged, conformed and cleansed (\"just-enough\") so that the Silver layer can provide an \"Enterprise view\" of all its key business entities, concepts and transactions."
			]
		},
		{
			"cell_type": "markdown",
			"metadata": {},
			"source": [
				"## 2.1 Listings Transformations"
			]
		},
		{
			"cell_type": "markdown",
			"metadata": {},
			"source": [
				"1. Filter listings with reviews placed more than a year ago\n",
				"2. Limpieza bedrooms y beds (bedroom missing =1, bed missing =bedroom)\n",
				"3. Normalize & Cast 'price'column: *$xxxx.xx ->  xxxx.xx* \n",
				"4. Fill NaNs in 'price'column with weighted average based on:\n",
				"    - number of bedrooms (bedrooms\n",
				"    - room type \n",
				"    - neighbourhood_group_cleansed \n",
				"5. Bin 'host' into categories based on the amound of units he has active\n",
				"    - particular\n",
				"    - tenedor\n",
				"    - gran_tenedor\n",
				"    - super_tenedor\n",
				"6. Get correlation between prior categorization and 'host_is_superhost' column.\n",
				"7. Bin 'price' into groups based on calculated intervals\n",
				"8. Apply format convention in 'name' and 'host_name' columns \n",
				"    - lower case para unificar criterios, \n",
				"    - special character removal ['* / - &'...]"
			]
		},
		{
			"cell_type": "code",
			"execution_count": 11,
			"metadata": {
				"tags": [],
				"trusted": true,
				"vscode": {
					"languageId": "python_glue_session"
				}
			},
			"outputs": [
				{
					"name": "stdout",
					"output_type": "stream",
					"text": [
						"\n"
					]
				}
			],
			"source": [
				"# Columns selected to bronze of listings's table\n",
				"columns_listings_selected = [\n",
				"    'id', \n",
				"    'name', \n",
				"    'description', \n",
				"    'host_id', \n",
				"    'host_name', \n",
				"    'host_since', \n",
				"    'host_about', \n",
				"    'host_response_time',\n",
				"    'host_response_rate',\n",
				"    'host_acceptance_rate',\n",
				"    'host_is_superhost',\n",
				"    'host_thumbnail_url',\n",
				"    'host_picture_url',\n",
				"    'host_neighbourhood',\n",
				"    'host_listings_count',\n",
				"    'host_total_listings_count',\n",
				"    'host_verifications',\n",
				"    'host_identity_verified',\n",
				"    'neighbourhood',\n",
				"    'neighbourhood_cleansed',\n",
				"    'neighbourhood_group_cleansed',\n",
				"    'latitude', \n",
				"    'longitude', \n",
				"    'property_type',\n",
				"    'room_type', \n",
				"    'accommodates', \n",
				"    'bathrooms', \n",
				"    'bathrooms_text', \n",
				"    'bedrooms', \n",
				"    'beds', \n",
				"    'amenities', \n",
				"    'price', \n",
				"    'number_of_reviews', \n",
				"    'number_of_reviews_ltm', \n",
				"    'number_of_reviews_l30d', \n",
				"    'first_review', \n",
				"    'last_review', \n",
				"    'review_scores_rating', \n",
				"    'review_scores_accuracy', \n",
				"    'review_scores_cleanliness', \n",
				"    'review_scores_checkin',\n",
				"    'review_scores_communication', \n",
				"    'review_scores_location',\n",
				"    'review_scores_value', \n",
				"    'license', \n",
				"    'calculated_host_listings_count', \n",
				"    'calculated_host_listings_count_entire_homes',\n",
				"    'calculated_host_listings_count_private_rooms',\n",
				"    'calculated_host_listings_count_shared_rooms', \n",
				"    'minimum_nights', \n",
				"    'reviews_per_month',\n",
				"    'mean_price', \n",
				"    'low_boundary_price',\n",
				"    'high_boundary_price', \n",
				"    'price_category', \n",
				"    'host_category'  \n",
				"]"
			]
		},
		{
			"cell_type": "code",
			"execution_count": 12,
			"metadata": {
				"tags": [],
				"trusted": true,
				"vscode": {
					"languageId": "python_glue_session"
				}
			},
			"outputs": [
				{
					"name": "stdout",
					"output_type": "stream",
					"text": [
						"\n"
					]
				}
			],
			"source": [
				"window_price = W.partitionBy([\"neighbourhood_group_cleansed\", \"room_type\", \"bedrooms\"])\n",
				"window_price_avg = W.partitionBy(\"neighbourhood_group_cleansed\", \"room_type\")\n",
				"window_host = W.partitionBy(\"host_id\")\n",
				"last_review_one_year_ago = F.date_sub(F.lit(df_listings.agg(F.max(\"last_review\").alias(\"last_review\")).collect()[0][\"last_review\"]), 365)"
			]
		},
		{
			"cell_type": "code",
			"execution_count": 13,
			"metadata": {
				"tags": [],
				"trusted": true,
				"vscode": {
					"languageId": "python_glue_session"
				}
			},
			"outputs": [
				{
					"name": "stdout",
					"output_type": "stream",
					"text": [
						"\n"
					]
				}
			],
			"source": [
				"df_listings_silver = (\n",
				"    df_listings\n",
				"    # Convert the last_review column to DateType\n",
				"    .withColumn(\"last_review\", F.to_date(F.col(\"last_review\"), \"yyyy-MM-dd\"))\n",
				"    # Filter reviews placed more than a year ago\n",
				"    .filter(F.col(\"last_review\") >= last_review_one_year_ago)\n",
				"    # Normalize & Cast 'price'column\n",
				"    .withColumn(\"price\", F.regexp_replace(F.col(\"price\"), \"[$,]\", \"\").cast(T.FloatType()))\n",
				"    # c\n",
				"    .withColumn(\"price\", \n",
				"                F.when(F.col(\"price\").isNull(), \n",
				"                       F.mean(\"price\").over(window_price_avg))\n",
				"                        .otherwise(F.col(\"price\"))\n",
				"               )\n",
				"    # Get Avg price for each group\n",
				"    .withColumn(\"mean_price\", F.avg(\"price\").over(window_price_avg))\n",
				"    # Get boundaries for price categories\n",
				"    .withColumn(\"low_boundary_price\", F.col(\"mean_price\") / 2)\n",
				"    .withColumn(\"high_boundary_price\", F.col(\"mean_price\") * 2)\n",
				"    # Bin 'price' into groups based on intervals\n",
				"    .withColumn(\n",
				"        \"price_category\",\n",
				"        F.when(F.col(\"price\") < F.col(\"low_boundary_price\"), \"Budget\")\n",
				"        .when((F.col(\"price\") >= F.col(\"low_boundary_price\")) & (F.col(\"price\") < F.col(\"mean_price\")), \"Moderate\")\n",
				"        .when((F.col(\"price\") >= F.col(\"mean_price\")) & (F.col(\"price\") < F.col(\"high_boundary_price\")), \"Standard\")\n",
				"        .otherwise(\"Luxury\")\n",
				"    )\n",
				"    # Get # listings by host\n",
				"    .withColumn(\"host_listings_count\", F.count(\"id\").over(window_host))\n",
				"    # Bin 'host' into categories based on the amound of units he has active\n",
				"    .withColumn(\n",
				"        \"host_category\",\n",
				"        F.when(F.col(\"host_listings_count\") < 10, \"Particular\")\n",
				"        .when((F.col(\"host_listings_count\") >= 10) & (F.col(\"host_listings_count\") < 50), \"Tenedor\")\n",
				"        .when((F.col(\"host_listings_count\") >= 50) & (F.col(\"host_listings_count\") < 100), \"Gran_tenedor\")\n",
				"        .when((F.col(\"host_listings_count\") >= 100), \"Super_tenedor\")\n",
				"    )\n",
				"    .withColumn(\"bedrooms\", F.when(F.col(\"bedrooms\").isNull(), 1).otherwise(F.col(\"bedrooms\")))\n",
				"    .withColumn(\"beds\", F.when(F.col(\"beds\").isNull(), F.col(\"bedrooms\")).otherwise(F.col(\"beds\")))\n",
				"    .withColumn(\"host_name\", F.lower(F.col(\"host_name\")))\n",
				"    .withColumn(\"name\", F.lower(F.col(\"name\")))\n",
				"    .withColumn(\"name\", F.regexp_replace(F.col(\"name\"), \"[^a-zA-Z0-9 ]\", \"\"))\n",
				"    .withColumn(\"host_name\", F.regexp_replace(F.col(\"host_name\"), \"[^a-zA-Z0-9 ]\", \"\"))\n",
				"    .withColumn(\"name\", F.regexp_replace(F.col(\"name\"), \"\\s+\", \" \"))\n",
				"    .withColumn(\"host_name\", F.regexp_replace(F.col(\"host_name\"), \"\\s+\", \" \"))\n",
				"    .withColumn(\"name\", F.trim(F.col(\"name\")))\n",
				"    .withColumn(\"host_name\", F.trim(F.col(\"host_name\")))\n",
				"    .select(columns_listings_selected)\n",
				")"
			]
		},
		{
			"cell_type": "code",
			"execution_count": 14,
			"metadata": {
				"tags": [],
				"trusted": true,
				"vscode": {
					"languageId": "python_glue_session"
				}
			},
			"outputs": [
				{
					"name": "stdout",
					"output_type": "stream",
					"text": [
						"\n"
					]
				}
			],
			"source": [
				"(\n",
				"    df_listings_silver\n",
				"    .write\n",
				"    .format(\"parquet\")\n",
				"    .mode(\"overwrite\")\n",
				"    .save(listings_silver)\n",
				")"
			]
		},
		{
			"cell_type": "code",
			"execution_count": 15,
			"metadata": {
				"tags": [],
				"trusted": true,
				"vscode": {
					"languageId": "python_glue_session"
				}
			},
			"outputs": [
				{
					"name": "stdout",
					"output_type": "stream",
					"text": [
						"\n"
					]
				}
			],
			"source": [
				"reviews_clean = (\n",
				"    df_reviews\n",
				"    .withColumn(\"reviewer_name\", F.lower(F.col(\"reviewer_name\")))\n",
				"    .withColumn(\"reviewer_name\", F.regexp_replace(F.col(\"reviewer_name\"), \"[^a-zA-Z0-9 ]\", \"\"))\n",
				"    .withColumn(\"reviewer_name\", F.regexp_replace(F.col(\"reviewer_name\"), \"\\s+\", \" \"))\n",
				"    .withColumn(\"reviewer_name\", F.trim(F.col(\"reviewer_name\")))\n",
				")"
			]
		},
		{
			"cell_type": "code",
			"execution_count": 16,
			"metadata": {
				"tags": [],
				"trusted": true,
				"vscode": {
					"languageId": "python_glue_session"
				}
			},
			"outputs": [
				{
					"name": "stdout",
					"output_type": "stream",
					"text": [
						"\n"
					]
				}
			],
			"source": [
				"# Function return the sentiment about the text input\n",
				"def get_sentiment(text):\n",
				"    import textblob\n",
				"    comment = TextBlob(text)\n",
				"    if comment.sentiment.polarity < 0:\n",
				"        sentiment = \"BE\" # Bad Experience\n",
				"    elif comment.sentiment.polarity == 0:\n",
				"        sentiment = \"NE\" # Neutral Experience\n",
				"    else:\n",
				"        sentiment = \"GE\" # Good Experience\n",
				"    return sentiment\n",
				"\n",
				"\n",
				"getSentiment = F.udf(get_sentiment, F.StringType(), )\n"
			]
		},
		{
			"cell_type": "code",
			"execution_count": 17,
			"metadata": {
				"tags": [],
				"trusted": true,
				"vscode": {
					"languageId": "python_glue_session"
				}
			},
			"outputs": [
				{
					"name": "stdout",
					"output_type": "stream",
					"text": [
						"\n"
					]
				}
			],
			"source": [
				"# filtrar las reviews_clean que el listing_id no este en id silver_listings_active y calculo del sentimiento en los comentarios\n",
				"reviews_clean_active = (\n",
				"    reviews_clean\n",
				"    .join(df_listings_silver, reviews_clean.listing_id == df_listings_silver.id, \"inner\")\n",
				"    .drop(df_listings_silver.id)\n",
				"    .select(reviews_clean.columns)\n",
				"    .filter(F.col(\"date\") >= F.lit(\"2023-03-22\"))\n",
				"    .withColumn(\"sentiment\", getSentiment(F.col(\"comments\")))\n",
				")"
			]
		},
		{
			"cell_type": "code",
			"execution_count": 18,
			"metadata": {
				"tags": [],
				"trusted": true,
				"vscode": {
					"languageId": "python_glue_session"
				}
			},
			"outputs": [
				{
					"name": "stdout",
					"output_type": "stream",
					"text": [
						"+---------+------+\n",
						"|sentiment| count|\n",
						"+---------+------+\n",
						"|       NE|192029|\n",
						"|       GE|160809|\n",
						"|       BE|  4689|\n",
						"+---------+------+\n"
					]
				}
			],
			"source": [
				"(\n",
				"    reviews_clean_active\n",
				"    .groupBy(\"sentiment\")\n",
				"    .count()\n",
				"    .show()\n",
				")"
			]
		},
		{
			"cell_type": "code",
			"execution_count": 19,
			"metadata": {
				"tags": [],
				"trusted": true,
				"vscode": {
					"languageId": "python_glue_session"
				}
			},
			"outputs": [
				{
					"name": "stdout",
					"output_type": "stream",
					"text": [
						"\n"
					]
				}
			],
			"source": [
				"(\n",
				"    reviews_clean_active\n",
				"    .write\n",
				"    .format(\"parquet\")\n",
				"    .mode(\"overwrite\")\n",
				"    .save(reviews_silver)\n",
				")"
			]
		},
		{
			"cell_type": "markdown",
			"metadata": {},
			"source": [
				"# 4. Gold Layer\n",
				"> Data in the Gold layer of the lakehouse is typically organized in consumption-ready \"project-specific\" databases. The Gold layer is for reporting and uses more de-normalized and read-optimized data models with fewer joins."
			]
		},
		{
			"cell_type": "markdown",
			"metadata": {},
			"source": [
				"## 4.1 Aggregations by neighborhood and room type"
			]
		},
		{
			"cell_type": "code",
			"execution_count": 20,
			"metadata": {
				"tags": [],
				"trusted": true,
				"vscode": {
					"languageId": "python_glue_session"
				}
			},
			"outputs": [
				{
					"name": "stdout",
					"output_type": "stream",
					"text": [
						"\n"
					]
				}
			],
			"source": [
				"df_neighbourhood_and_room_type_report_gold = (\n",
				"    df_listings_silver\n",
				"    .groupBy(\"neighbourhood_group_cleansed\", \"room_type\")\n",
				"    .agg(\n",
				"        F.countDistinct(\"id\").alias(\"listings_count\"),\n",
				"        F.avg(\"price\").alias(\"avg_price\"),\n",
				"        F.avg(\"review_scores_value\").alias(\"avg_review_scores_value\"),\n",
				"        F.sum(\"number_of_reviews\").alias(\"total_reviews\"),\n",
				"    )\n",
				"    .orderBy(F.asc(\"neighbourhood_group_cleansed\"), F.desc(\"avg_review_scores_value\"))\n",
				")"
			]
		},
		{
			"cell_type": "code",
			"execution_count": 21,
			"metadata": {
				"tags": [],
				"trusted": true,
				"vscode": {
					"languageId": "python_glue_session"
				}
			},
			"outputs": [
				{
					"name": "stdout",
					"output_type": "stream",
					"text": [
						"+----------------------------+---------------+--------------+------------------+-----------------------+-------------+\n",
						"|neighbourhood_group_cleansed|      room_type|listings_count|         avg_price|avg_review_scores_value|total_reviews|\n",
						"+----------------------------+---------------+--------------+------------------+-----------------------+-------------+\n",
						"|                  Arganzuela|   Private room|           263| 53.32894736842108|      4.663384030418251|      14140.0|\n",
						"|                  Arganzuela|Entire home/apt|           590|120.80679785330943|      4.543475298126069|      45955.0|\n",
						"|                  Arganzuela|    Shared room|            11|35.199999999999996|     4.2309090909090905|         85.0|\n",
						"|                     Barajas|   Private room|            68|          46.84375|     4.7327941176470585|       8382.0|\n",
						"|                     Barajas|    Shared room|             5|              42.4|                  4.672|        364.0|\n",
						"|                     Barajas|Entire home/apt|            42|124.63157894736841|      4.632619047619047|       4346.0|\n",
						"|                 Carabanchel|    Shared room|             3|19.333333333333332|                   4.91|        176.0|\n",
						"|                 Carabanchel|   Private room|           264| 37.00813008130083|      4.603384030418249|       8663.0|\n",
						"|                 Carabanchel|Entire home/apt|           328|108.07348242811499|      4.487003058103976|      12121.0|\n",
						"|                      Centro|     Hotel room|            31|             127.0|      4.605806451612903|       1387.0|\n",
						"|                      Centro|   Private room|          1405| 69.71755102040838|      4.584348754448401|      90980.0|\n",
						"|                      Centro|Entire home/apt|          6415|156.91981597108057|      4.564198378041175|     571323.0|\n",
						"|                      Centro|    Shared room|           112|35.945945945945944|      4.528928571428572|       4032.0|\n",
						"|                   Chamartín|    Shared room|             2|              34.0|                  4.795|         18.0|\n",
						"|                   Chamartín|   Private room|           111| 58.23364485981308|      4.672342342342342|       4033.0|\n",
						"|                   Chamartín|Entire home/apt|           348|133.51212121212123|      4.501091954022992|      11428.0|\n",
						"|                   Chamartín|     Hotel room|             1|              null|                    4.2|          5.0|\n",
						"|                    Chamberí|     Hotel room|             5|              91.0|                  4.798|        104.0|\n",
						"|                    Chamberí|    Shared room|             5|             102.2|     4.6659999999999995|         78.0|\n",
						"|                    Chamberí|   Private room|           241| 57.71999999999999|      4.597833333333336|       8939.0|\n",
						"+----------------------------+---------------+--------------+------------------+-----------------------+-------------+\n",
						"only showing top 20 rows\n"
					]
				}
			],
			"source": [
				"df_neighbourhood_and_room_type_report_gold.show()"
			]
		},
		{
			"cell_type": "code",
			"execution_count": 43,
			"metadata": {
				"tags": [],
				"trusted": true,
				"vscode": {
					"languageId": "python_glue_session"
				}
			},
			"outputs": [
				{
					"name": "stdout",
					"output_type": "stream",
					"text": [
						"\n"
					]
				}
			],
			"source": [
				"(\n",
				"    df_neighbourhood_and_room_type_report_gold\n",
				"    .write\n",
				"    .format(\"parquet\")\n",
				"    .mode(\"overwrite\")\n",
				"    .option(\"path\", neighborhood_room_type_report_gold)\n",
				"    .saveAsTable(\"neighborhood_room_type_report_gold_table\")\n",
				")"
			]
		},
		{
			"cell_type": "markdown",
			"metadata": {},
			"source": [
				"![rules](./images/neighborhood_room_type_report_gold.png)"
			]
		},
		{
			"cell_type": "code",
			"execution_count": 23,
			"metadata": {
				"tags": [],
				"trusted": true,
				"vscode": {
					"languageId": "python_glue_session"
				}
			},
			"outputs": [
				{
					"name": "stdout",
					"output_type": "stream",
					"text": [
						"\n"
					]
				}
			],
			"source": [
				"def plot_avg_price_by_neighbourhood_and_room_type(ddf, neighbourhood_col='neighbourhood_group_cleansed', avg_price_col='avg_price', room_type_col='room_type'):\n",
				"    \"\"\"\n",
				"    Plots the average price by neighbourhood and room type using a Pandas DataFrame and Plotly.\n",
				"    \n",
				"    Parameters:\n",
				"    df (DataFrame): Pandas DataFrame containing the average prices segmented by neighbourhood and room type\n",
				"    neighbourhood_col (str): Name of the column containing neighbourhood information\n",
				"    avg_price_col (str): Name of the column containing average price information\n",
				"    room_type_col (str): Name of the column containing room type information\n",
				"    \"\"\"\n",
				"    # Convert to Pandas DataFrame\n",
				"    df = ddf.toPandas()\n",
				"    # Plotting the bar chart using Plotly\n",
				"    fig = px.bar(df, x=neighbourhood_col, y=avg_price_col, color=room_type_col, barmode='group', title='Average Price by Neighbourhood and Room Type')\n",
				"    fig.update_layout(xaxis_title='Neighbourhood', yaxis_title='Average Price', xaxis={'categoryorder':'total descending'}, xaxis_tickangle=-45)\n",
				"    fig.show()"
			]
		},
		{
			"cell_type": "markdown",
			"metadata": {},
			"source": [
				"## 4.2 Aggregations by neighborhood and host type"
			]
		},
		{
			"cell_type": "code",
			"execution_count": 25,
			"metadata": {
				"tags": [],
				"trusted": true,
				"vscode": {
					"languageId": "python_glue_session"
				}
			},
			"outputs": [
				{
					"name": "stdout",
					"output_type": "stream",
					"text": [
						"\n"
					]
				}
			],
			"source": [
				"## Ratio listings by Host\n",
				"# Aggregate by neighbourhood\n",
				"neighbourhood_agg = (\n",
				"    df_listings_silver\n",
				"    .groupBy(\"neighbourhood_group_cleansed\")\n",
				"    .agg(\n",
				"        F.countDistinct(\"host_name\").alias(\"hosts_neighbourhood\"),\n",
				"        F.count(\"id\").alias(\"listings_neighbourhood\")\n",
				"    )\n",
				")\n",
				"\n",
				"# Aggregate by neighbourhood and host category\n",
				"neighbourhood_host_agg = (\n",
				"    df_listings_silver\n",
				"    .groupBy(\"neighbourhood_group_cleansed\", \"host_category\")\n",
				"    .agg(\n",
				"        F.countDistinct(\"host_name\").alias(\"hosts_category\"),\n",
				"        F.count(\"id\").alias(\"listings_category\"),\n",
				"        F.avg(\"price\").alias(\"avg_price\"),\n",
				"        F.avg(\"review_scores_value\").alias(\"avg_review_scores_value\"),\n",
				"        F.sum(\"number_of_reviews\").alias(\"total_reviews\"),\n",
				"        F.countDistinct(\"id\").alias(\"listings_count\")\n",
				"    )\n",
				")\n",
				"\n",
				"# Join aggregates and calculate ratios\n",
				"df_neighbourhood_and_host_type_report_gold = (\n",
				"    neighbourhood_host_agg\n",
				"    .join(neighbourhood_agg, on=\"neighbourhood_group_cleansed\")\n",
				"    .withColumn(\n",
				"        \"host_category_ratio\",\n",
				"        F.round(F.col(\"hosts_category\") / F.col(\"hosts_neighbourhood\") * 100, 2)\n",
				"    )\n",
				"    .withColumn(\n",
				"        \"listing_category_ratio\",\n",
				"        F.round(F.col(\"listings_category\") / F.col(\"listings_neighbourhood\") * 100, 2)\n",
				"    )\n",
				"    .orderBy(F.asc(\"neighbourhood_group_cleansed\"), F.desc(\"avg_review_scores_value\"))\n",
				"    #Drop calculation columns\n",
				"    .drop(\"listings_category\", \"listings_neighbourhood\", \"hosts_category\", \"hosts_neighbourhood\")\n",
				")"
			]
		},
		{
			"cell_type": "code",
			"execution_count": 26,
			"metadata": {
				"tags": [],
				"trusted": true,
				"vscode": {
					"languageId": "python_glue_session"
				}
			},
			"outputs": [
				{
					"name": "stdout",
					"output_type": "stream",
					"text": [
						"+----------------------------+-------------+------------------+-----------------------+-------------+--------------+-------------------+----------------------+\n",
						"|neighbourhood_group_cleansed|host_category|         avg_price|avg_review_scores_value|total_reviews|listings_count|host_category_ratio|listing_category_ratio|\n",
						"+----------------------------+-------------+------------------+-----------------------+-------------+--------------+-------------------+----------------------+\n",
						"|                  Arganzuela|   Particular| 95.78008434477223|      4.622237237237236|      50489.0|           666|              90.57|                 77.08|\n",
						"|                  Arganzuela|Super_tenedor|128.53667262969586|      4.579302325581396|       2155.0|            44|               1.08|                  5.09|\n",
						"|                  Arganzuela|      Tenedor|101.00624045676531|      4.448444444444444|       5022.0|            92|              10.24|                 10.65|\n",
						"|                  Arganzuela| Gran_tenedor|112.11290322580645|      4.263709677419355|       2514.0|            62|               2.43|                  7.18|\n",
						"|                     Barajas|   Particular|  74.1407196087564|     4.6954867256637165|      13080.0|           113|              96.92|                 98.26|\n",
						"|                     Barajas|      Tenedor|             127.0|                  4.585|         12.0|             2|               3.08|                  1.74|\n",
						"|                 Carabanchel|   Particular| 65.03488610735121|      4.582515463917526|      18712.0|           486|              94.12|                 81.68|\n",
						"|                 Carabanchel| Gran_tenedor|              67.5|                  4.445|         35.0|             4|               0.65|                  0.67|\n",
						"|                 Carabanchel|Super_tenedor|168.05551118210866|                4.40825|       1233.0|            40|               1.63|                  6.72|\n",
						"|                 Carabanchel|      Tenedor|  102.724207421971|               4.313125|        980.0|            65|               4.58|                 10.92|\n",
						"|                      Centro|   Particular|133.49401554228706|      4.612302172226533|     456947.0|          5158|              94.96|                 64.77|\n",
						"|                      Centro|Super_tenedor|185.09722180512733|      4.531436031331593|      25219.0|           383|               0.24|                  4.81|\n",
						"|                      Centro|      Tenedor| 139.9887727746562|      4.498608100399322|     142674.0|          1753|               7.71|                 22.01|\n",
						"|                      Centro| Gran_tenedor|160.98959311158887|      4.422215568862274|      42882.0|           669|               0.77|                   8.4|\n",
						"|                   Chamartín|   Particular|113.93224178381092|      4.637535410764871|      13387.0|           353|              86.75|                 76.41|\n",
						"|                   Chamartín|Super_tenedor| 147.3385918003565|     4.4197058823529405|       1100.0|            34|               2.14|                  7.36|\n",
						"|                   Chamartín|      Tenedor| 98.96258168392124|      4.223888888888888|        773.0|            54|               8.97|                 11.69|\n",
						"|                   Chamartín| Gran_tenedor|120.78629148629149|     3.9709523809523803|        224.0|            21|               2.56|                  4.55|\n",
						"|                    Chamberí|   Particular|110.67326703386368|      4.601334431630972|      27701.0|           608|              88.08|                 64.34|\n",
						"|                    Chamberí| Gran_tenedor|126.68037132739977|      4.326543209876542|       2943.0|            81|               3.25|                  8.57|\n",
						"+----------------------------+-------------+------------------+-----------------------+-------------+--------------+-------------------+----------------------+\n",
						"only showing top 20 rows\n"
					]
				}
			],
			"source": [
				"df_neighbourhood_and_host_type_report_gold.show()"
			]
		},
		{
			"cell_type": "code",
			"execution_count": 42,
			"metadata": {
				"tags": [],
				"trusted": true,
				"vscode": {
					"languageId": "python_glue_session"
				}
			},
			"outputs": [
				{
					"name": "stdout",
					"output_type": "stream",
					"text": [
						"\n"
					]
				}
			],
			"source": [
				"(\n",
				"    df_neighbourhood_and_host_type_report_gold\n",
				"    .write\n",
				"    .format(\"parquet\")\n",
				"    .mode(\"overwrite\")\n",
				"    .option(\"path\", neighborhood_host_type_report_gold)\n",
				"    .saveAsTable(\"neighborhood_host_type_report_gold_table\")\n",
				")"
			]
		},
		{
			"cell_type": "markdown",
			"metadata": {},
			"source": [
				"![rules](./images/neighborhoos_host_type_report.png)"
			]
		},
		{
			"cell_type": "markdown",
			"metadata": {},
			"source": [
				"## 4.3 Aggregations by host name"
			]
		},
		{
			"cell_type": "code",
			"execution_count": 28,
			"metadata": {
				"tags": [],
				"trusted": true,
				"vscode": {
					"languageId": "python_glue_session"
				}
			},
			"outputs": [
				{
					"name": "stdout",
					"output_type": "stream",
					"text": [
						"\n"
					]
				}
			],
			"source": [
				"# Top ten Host with more listings\n",
				"df_host_name_report_gold = (\n",
				"    df_listings_silver\n",
				"    .groupBy(\"host_name\")\n",
				"    .agg(\n",
				"        F.countDistinct(\"id\").alias(\"listings_count\"),\n",
				"        F.avg(\"price\").alias(\"avg_price\"),\n",
				"        F.avg(\"review_scores_value\").alias(\"avg_review_scores_value\"),\n",
				"        F.sum(\"number_of_reviews\").alias(\"total_reviews\"),\n",
				"    )\n",
				"    .orderBy(F.desc(\"listings_count\"))\n",
				")"
			]
		},
		{
			"cell_type": "code",
			"execution_count": 29,
			"metadata": {
				"tags": [],
				"trusted": true,
				"vscode": {
					"languageId": "python_glue_session"
				}
			},
			"outputs": [
				{
					"name": "stdout",
					"output_type": "stream",
					"text": [
						"+------------+--------------+------------------+-----------------------+-------------+\n",
						"|   host_name|listings_count|         avg_price|avg_review_scores_value|total_reviews|\n",
						"+------------+--------------+------------------+-----------------------+-------------+\n",
						"|   mit house|           282|223.65048737985506|      4.407340425531914|       8042.0|\n",
						"|       jorge|           254|152.16343364895604|      4.456614173228345|      12686.0|\n",
						"|fran y marta|           250| 159.1869410548177|      4.623092369477912|      10602.0|\n",
						"|      javier|           224|123.33713336169068|       4.62330357142857|      16748.0|\n",
						"|      daniel|           197|125.72309188868068|      4.646598984771574|      13970.0|\n",
						"|      emilio|           173|220.07822772889628|      4.589479768786125|       7648.0|\n",
						"|      carlos|           170| 120.4953069090886|      4.501058823529415|      11981.0|\n",
						"|        raul|           168|109.31452161870335|     4.5821428571428555|      17813.0|\n",
						"|       maria|           147|  95.8940035550884|      4.584489795918368|       8720.0|\n",
						"|       diego|           141| 91.61452095118959|      4.492142857142857|       6760.0|\n",
						"+------------+--------------+------------------+-----------------------+-------------+\n",
						"only showing top 10 rows\n"
					]
				}
			],
			"source": [
				"df_host_name_report_gold.show(10)"
			]
		},
		{
			"cell_type": "code",
			"execution_count": 41,
			"metadata": {
				"tags": [],
				"trusted": true,
				"vscode": {
					"languageId": "python_glue_session"
				}
			},
			"outputs": [
				{
					"name": "stdout",
					"output_type": "stream",
					"text": [
						"\n"
					]
				}
			],
			"source": [
				"(\n",
				"    df_host_name_report_gold\n",
				"    .write\n",
				"    .format(\"parquet\")\n",
				"    .mode(\"overwrite\")\n",
				"    .option(\"path\", host_name_report_gold)\n",
				"    .saveAsTable(\"host_name_report_gold_table\")\n",
				")"
			]
		},
		{
			"cell_type": "markdown",
			"metadata": {},
			"source": [
				"![rules](./images/dq_host_name_report_gold.png)"
			]
		},
		{
			"cell_type": "markdown",
			"metadata": {},
			"source": [
				"## 4.4 Aggregations by neighborhood and host type + avg income"
			]
		},
		{
			"cell_type": "code",
			"execution_count": 31,
			"metadata": {
				"tags": [],
				"trusted": true,
				"vscode": {
					"languageId": "python_glue_session"
				}
			},
			"outputs": [
				{
					"name": "stdout",
					"output_type": "stream",
					"text": [
						"\n"
					]
				}
			],
			"source": [
				"listings_counts_reviews = (\n",
				"    reviews_clean_active\n",
				"    .groupBy(\"listing_id\")\n",
				"    .agg(\n",
				"        F.count(\"id\").alias(\"reviews_count\")\n",
				"    )\n",
				"    .filter(F.col(\"listing_id\").isNotNull())\n",
				")"
			]
		},
		{
			"cell_type": "code",
			"execution_count": 32,
			"metadata": {
				"tags": [],
				"trusted": true,
				"vscode": {
					"languageId": "python_glue_session"
				}
			},
			"outputs": [
				{
					"name": "stdout",
					"output_type": "stream",
					"text": [
						"\n"
					]
				}
			],
			"source": [
				"dict_neighbourhood_price = {\n",
				"    \"Arganzuela\":4755,\n",
				"    \"Barajas\":3673,\n",
				"    \"Carabanchel\":2676,\n",
				"    \"Centro\":6205,\n",
				"    \"Chamartín\":6214,\n",
				"    \"Chamberí\":6630,\n",
				"    \"Ciudad Lineal\":3645,\n",
				"    \"Fuencarral - El Pardo\":4005,\n",
				"    \"Hortaleza\":4334,\n",
				"    \"Latina\":2746,\n",
				"    \"Moncloa - Aravaca\":4837,\n",
				"    \"Moratalaz\":3083,\n",
				"    \"Puente de Vallecas\":2359,\n",
				"    \"Retiro\":5410,\n",
				"    \"Salamanca\":7671,\n",
				"    \"San Blas - Canillejas\":2947,\n",
				"    \"Tetuán\":4491,\n",
				"    \"Usera\":2465,\n",
				"    \"Vicálvaro\":2880,\n",
				"    \"Villa de Vallecas\":2812,\n",
				"    \"Villaverde\":2077    \n",
				"}"
			]
		},
		{
			"cell_type": "code",
			"execution_count": 33,
			"metadata": {
				"tags": [],
				"trusted": true,
				"vscode": {
					"languageId": "python_glue_session"
				}
			},
			"outputs": [
				{
					"name": "stdout",
					"output_type": "stream",
					"text": [
						"\n"
					]
				}
			],
			"source": [
				"# transform dictionary in dataframe pyspark\n",
				"df_neighbourhood_price = (\n",
				"    spark\n",
				"    .createDataFrame(dict_neighbourhood_price.items(), [\"neighbourhood_group\", \"avg_price_neighbourhood\"])\n",
				")"
			]
		},
		{
			"cell_type": "code",
			"execution_count": 34,
			"metadata": {
				"tags": [],
				"trusted": true,
				"vscode": {
					"languageId": "python_glue_session"
				}
			},
			"outputs": [
				{
					"name": "stdout",
					"output_type": "stream",
					"text": [
						"\n"
					]
				}
			],
			"source": [
				"# Avg price by neighbourhood and host type\n",
				"df_benefits_report_gold = (\n",
				"    df_listings_silver\n",
				"    .join(listings_counts_reviews, listings_counts_reviews.listing_id == df_listings_silver.id, \"inner\")\n",
				"    .select(\"neighbourhood_group_cleansed\",\"host_category\",\"id\",\"price\",\"review_scores_value\",\"minimum_nights\",\"bathrooms\",\"bedrooms\",\"beds\",\"reviews_count\")\n",
				"    .groupBy(\"neighbourhood_group_cleansed\", \"host_category\")\n",
				"    .agg(\n",
				"        F.countDistinct(\"id\").alias(\"listings_count\"),\n",
				"        F.avg(\"price\").cast(T.DecimalType(20,2)).alias(\"avg_price\"),\n",
				"        F.avg(\"review_scores_value\").cast(T.DecimalType(20,2)).alias(\"avg_review_scores_value\"),\n",
				"        F.avg(\"minimum_nights\").cast(T.DecimalType(20,2)).alias(\"avg_minimum_nights\"),\n",
				"        F.avg(\"bathrooms\").cast(T.DecimalType(20,2)).alias(\"avg_bathrooms\"),\n",
				"        F.avg(\"bedrooms\").cast(T.DecimalType(20,2)).alias(\"avg_bedrooms\"),\n",
				"        F.avg(\"beds\").cast(T.DecimalType(20,2)).alias(\"avg_beds\"),\n",
				"        F.avg(\"reviews_count\").cast(T.DecimalType(20,2)).alias(\"avg_reviews_count\")\n",
				"    )\n",
				"    .withColumn(\"avg_benefits_last_year\", (F.col(\"avg_price\") * F.col(\"avg_reviews_count\") * F.col(\"avg_minimum_nights\")).cast(T.DecimalType(20,2)))\n",
				"    .join(df_neighbourhood_price, df_listings_silver.neighbourhood_group_cleansed == df_neighbourhood_price.neighbourhood_group, \"inner\")\n",
				"    .select('neighbourhood_group_cleansed', 'host_category', 'listings_count', 'avg_price', 'avg_reviews_count', 'avg_benefits_last_year',\"avg_price_neighbourhood\")\n",
				"    .withColumn(\"price_ratio_benefits\", F.round(F.col(\"avg_benefits_last_year\") / F.col(\"avg_price_neighbourhood\") * 100, 2))\n",
				"    .orderBy(F.asc(\"neighbourhood_group_cleansed\"), F.desc(\"avg_review_scores_value\"))\n",
				")"
			]
		},
		{
			"cell_type": "code",
			"execution_count": 35,
			"metadata": {
				"tags": [],
				"trusted": true,
				"vscode": {
					"languageId": "python_glue_session"
				}
			},
			"outputs": [
				{
					"name": "stdout",
					"output_type": "stream",
					"text": [
						"+----------------------------+-------------+--------------+---------+-----------------+----------------------+-----------------------+--------------------+\n",
						"|neighbourhood_group_cleansed|host_category|listings_count|avg_price|avg_reviews_count|avg_benefits_last_year|avg_price_neighbourhood|price_ratio_benefits|\n",
						"+----------------------------+-------------+--------------+---------+-----------------+----------------------+-----------------------+--------------------+\n",
						"|Retiro                      |Gran_tenedor |39            |162.35   |15.23            |31204.09              |5410                   |576.79              |\n",
						"|Moncloa - Aravaca           |Gran_tenedor |20            |283.70   |7.65             |19098.68              |4837                   |394.85              |\n",
						"|Tetuán                      |Gran_tenedor |31            |98.71    |10.06            |14954.92              |4491                   |333.00              |\n",
						"|Arganzuela                  |Gran_tenedor |62            |112.11   |17.45            |14457.20              |4755                   |304.04              |\n",
						"|Tetuán                      |Particular   |596           |117.51   |14.71            |13500.15              |4491                   |300.60              |\n",
						"|Retiro                      |Tenedor      |91            |140.07   |10.14            |15509.78              |5410                   |286.69              |\n",
						"|Retiro                      |Particular   |410           |115.35   |22.03            |15145.32              |5410                   |279.95              |\n",
						"|Salamanca                   |Particular   |695           |164.44   |18.34            |20869.54              |7671                   |272.06              |\n",
						"|Centro                      |Particular   |5158          |133.49   |25.87            |16161.85              |6205                   |260.46              |\n",
						"|Salamanca                   |Gran_tenedor |91            |205.67   |8.89             |19710.22              |7671                   |256.94              |\n",
						"|Ciudad Lineal               |Particular   |491           |70.68    |17.65            |8969.54               |3645                   |246.08              |\n",
						"|Centro                      |Tenedor      |1753          |139.99   |24.88            |15220.50              |6205                   |245.29              |\n",
						"|Hortaleza                   |Particular   |318           |101.94   |18.41            |10340.70              |4334                   |238.59              |\n",
						"|Salamanca                   |Tenedor      |219           |196.72   |14.53            |18264.80              |7671                   |238.10              |\n",
						"|Arganzuela                  |Particular   |666           |95.78    |24.86            |10905.40              |4755                   |229.35              |\n",
						"|Moncloa - Aravaca           |Particular   |276           |115.82   |16.32            |11000.86              |4837                   |227.43              |\n",
						"|Chamberí                    |Tenedor      |180           |128.31   |10.99            |14933.24              |6630                   |225.24              |\n",
						"|Villaverde                  |Particular   |124           |55.42    |16.45            |4585.64               |2077                   |220.78              |\n",
						"|Puente de Vallecas          |Particular   |411           |67.38    |18.55            |5174.58               |2359                   |219.35              |\n",
						"|Chamartín                   |Gran_tenedor |21            |120.79   |5.95             |13145.03              |6214                   |211.54              |\n",
						"|Vicálvaro                   |Particular   |48            |87.66    |18.13            |6023.36               |2880                   |209.14              |\n",
						"|Moncloa - Aravaca           |Tenedor      |69            |107.83   |7.64             |9984.71               |4837                   |206.42              |\n",
						"|Ciudad Lineal               |Tenedor      |35            |153.71   |13.11            |7476.16               |3645                   |205.11              |\n",
						"|Centro                      |Gran_tenedor |669           |160.99   |19.63            |12514.53              |6205                   |201.68              |\n",
						"|Usera                       |Particular   |283           |57.39    |15.70            |4874.53               |2465                   |197.75              |\n",
						"|Latina                      |Particular   |400           |66.60    |18.29            |5396.25               |2746                   |196.51              |\n",
						"|Arganzuela                  |Tenedor      |92            |101.01   |19.88            |9297.40               |4755                   |195.53              |\n",
						"|Carabanchel                 |Tenedor      |65            |102.72   |7.51             |4829.13               |2676                   |180.46              |\n",
						"|Villa de Vallecas           |Particular   |78            |68.72    |17.27            |5020.14               |2812                   |178.53              |\n",
						"|Tetuán                      |Tenedor      |203           |93.56    |19.22            |7858.24               |4491                   |174.98              |\n",
						"|Chamartín                   |Particular   |353           |113.93   |15.64            |10495.19              |6214                   |168.90              |\n",
						"|Fuencarral - El Pardo       |Particular   |187           |78.93    |12.66            |6734.97               |4005                   |168.16              |\n",
						"|Chamberí                    |Particular   |608           |110.67   |15.54            |11041.19              |6630                   |166.53              |\n",
						"|Moncloa - Aravaca           |Super_tenedor|6             |165.50   |40.50            |7842.22               |4837                   |162.13              |\n",
						"|Carabanchel                 |Particular   |486           |65.03    |16.76            |4316.02               |2676                   |161.29              |\n",
						"|Chamberí                    |Gran_tenedor |81            |126.68   |8.95             |10147.38              |6630                   |153.05              |\n",
						"|Barajas                     |Particular   |113           |74.14    |50.22            |5398.80               |3673                   |146.99              |\n",
						"|San Blas - Canillejas       |Particular   |301           |72.89    |20.36            |4184.99               |2947                   |142.01              |\n",
						"|Fuencarral - El Pardo       |Gran_tenedor |2             |179.50   |20.50            |5519.63               |4005                   |137.82              |\n",
						"|Arganzuela                  |Super_tenedor|44            |128.54   |19.98            |6240.80               |4755                   |131.25              |\n",
						"|San Blas - Canillejas       |Gran_tenedor |1             |75.00    |25.00            |3750.00               |2947                   |127.25              |\n",
						"|Retiro                      |Super_tenedor|33            |171.88   |19.42            |6575.68               |5410                   |121.55              |\n",
						"|Usera                       |Tenedor      |96            |73.45    |8.42             |2906.71               |2465                   |117.92              |\n",
						"|Moratalaz                   |Tenedor      |6             |115.43   |5.67             |3599.68               |3083                   |116.76              |\n",
						"|Centro                      |Super_tenedor|383           |185.10   |27.22            |7053.79               |6205                   |113.68              |\n",
						"|Latina                      |Super_tenedor|4             |102.00   |28.25            |2881.50               |2746                   |104.93              |\n",
						"|Ciudad Lineal               |Gran_tenedor |9             |82.32    |20.78            |3797.55               |3645                   |104.19              |\n",
						"|Moratalaz                   |Particular   |103           |53.17    |14.96            |3197.60               |3083                   |103.72              |\n",
						"|Carabanchel                 |Super_tenedor|40            |168.06   |14.90            |2704.42               |2676                   |101.06              |\n",
						"|Hortaleza                   |Gran_tenedor |4             |91.75    |18.75            |4300.78               |4334                   |99.23               |\n",
						"|Villaverde                  |Gran_tenedor |2             |81.50    |12.50            |2037.50               |2077                   |98.10               |\n",
						"|Villaverde                  |Tenedor      |21            |86.74    |8.14             |1885.19               |2077                   |90.77               |\n",
						"|San Blas - Canillejas       |Super_tenedor|5             |155.40   |14.20            |2206.68               |2947                   |74.88               |\n",
						"|Hortaleza                   |Tenedor      |47            |153.04   |9.38             |3244.26               |4334                   |74.86               |\n",
						"|Puente de Vallecas          |Tenedor      |69            |125.22   |9.03             |1752.64               |2359                   |74.30               |\n",
						"|Usera                       |Gran_tenedor |29            |96.17    |11.55            |1799.44               |2465                   |73.00               |\n",
						"|Fuencarral - El Pardo       |Tenedor      |19            |122.04   |6.16             |2886.78               |4005                   |72.08               |\n",
						"|Latina                      |Tenedor      |19            |96.79    |12.53            |1916.19               |2746                   |69.78               |\n",
						"|Chamartín                   |Tenedor      |54            |98.96    |10.06            |4111.57               |6214                   |66.17               |\n",
						"|Hortaleza                   |Super_tenedor|2             |125.50   |9.50             |2384.50               |4334                   |55.02               |\n",
						"|Chamberí                    |Super_tenedor|76            |173.20   |13.84            |3475.78               |6630                   |52.43               |\n",
						"|Vicálvaro                   |Super_tenedor|1             |130.00   |10.00            |1300.00               |2880                   |45.14               |\n",
						"|Latina                      |Gran_tenedor |16            |78.69    |9.88             |1166.19               |2746                   |42.47               |\n",
						"|Villa de Vallecas           |Super_tenedor|4             |88.00    |13.00            |1144.00               |2812                   |40.68               |\n",
						"|Ciudad Lineal               |Super_tenedor|39            |113.15   |11.85            |1474.91               |3645                   |40.46               |\n",
						"|Salamanca                   |Super_tenedor|83            |160.36   |17.87            |3037.57               |7671                   |39.60               |\n",
						"|Tetuán                      |Super_tenedor|91            |131.57   |12.15            |1742.45               |4491                   |38.80               |\n",
						"|Chamartín                   |Super_tenedor|34            |147.34   |13.21            |2296.71               |6214                   |36.96               |\n",
						"|Usera                       |Super_tenedor|13            |127.67   |6.69             |854.11                |2465                   |34.65               |\n",
						"|Barajas                     |Tenedor      |2             |127.00   |6.00             |1143.00               |3673                   |31.12               |\n",
						"|Carabanchel                 |Gran_tenedor |4             |67.50    |7.50             |759.38                |2676                   |28.38               |\n",
						"|Fuencarral - El Pardo       |Super_tenedor|6             |120.53   |7.33             |883.48                |4005                   |22.06               |\n",
						"|Villa de Vallecas           |Gran_tenedor |1             |97.00    |6.00             |582.00                |2812                   |20.70               |\n",
						"|Moratalaz                   |Super_tenedor|1             |131.00   |4.00             |524.00                |3083                   |17.00               |\n",
						"|San Blas - Canillejas       |Tenedor      |10            |68.80    |4.00             |495.36                |2947                   |16.81               |\n",
						"|Puente de Vallecas          |Gran_tenedor |6             |79.61    |3.33             |352.58                |2359                   |14.95               |\n",
						"|Villa de Vallecas           |Tenedor      |1             |84.00    |4.00             |336.00                |2812                   |11.95               |\n",
						"+----------------------------+-------------+--------------+---------+-----------------+----------------------+-----------------------+--------------------+\n"
					]
				}
			],
			"source": [
				"df_benefits_report_gold.orderBy(F.desc(\"price_ratio_benefits\")).show(100, False)"
			]
		},
		{
			"cell_type": "code",
			"execution_count": 37,
			"metadata": {
				"tags": [],
				"trusted": true,
				"vscode": {
					"languageId": "python_glue_session"
				}
			},
			"outputs": [
				{
					"name": "stdout",
					"output_type": "stream",
					"text": [
						"\n"
					]
				}
			],
			"source": [
				"(\n",
				"    df_benefits_report_gold\n",
				"    .write\n",
				"    .format(\"parquet\")\n",
				"    .mode(\"overwrite\")\n",
				"    .option(\"path\", benefits_report_gold)\n",
				"    .saveAsTable(\"benefits_report_gold_table\")\n",
				")"
			]
		},
		{
			"cell_type": "markdown",
			"metadata": {},
			"source": [
				"![rules](./images/dq_benefits_report_gold.png)"
			]
		},
		{
			"cell_type": "code",
			"execution_count": null,
			"metadata": {
				"vscode": {
					"languageId": "python_glue_session"
				}
			},
			"outputs": [],
			"source": []
		}
	],
	"metadata": {
		"kernelspec": {
			"display_name": "Glue PySpark",
			"language": "python",
			"name": "glue_pyspark"
		},
		"language_info": {
			"codemirror_mode": {
				"name": "python",
				"version": 3
			},
			"file_extension": ".py",
			"mimetype": "text/x-python",
			"name": "Python_Glue_Session",
			"pygments_lexer": "python3"
		}
	},
	"nbformat": 4,
	"nbformat_minor": 4
}
